{
 "cells": [
  {
   "cell_type": "markdown",
   "metadata": {},
   "source": [
    "# Loading Data to DataBase"
   ]
  },
  {
   "cell_type": "code",
   "execution_count": 1,
   "metadata": {},
   "outputs": [],
   "source": [
    "# Setting up dependency\n",
    "import pandas as pd\n",
    "import pymongo\n",
    "import json"
   ]
  },
  {
   "cell_type": "code",
   "execution_count": 2,
   "metadata": {},
   "outputs": [
    {
     "name": "stderr",
     "output_type": "stream",
     "text": [
      "C:\\Users\\reema\\Anaconda3\\lib\\site-packages\\ipykernel_launcher.py:15: DeprecationWarning: remove is deprecated. Use delete_one or delete_many instead.\n",
      "  from ipykernel import kernelapp as app\n",
      "C:\\Users\\reema\\Anaconda3\\lib\\site-packages\\ipykernel_launcher.py:17: DeprecationWarning: insert is deprecated. Use insert_one or insert_many instead.\n"
     ]
    }
   ],
   "source": [
    "def import_content(filepath):\n",
    "\n",
    "    client = pymongo.MongoClient('localhost', 27017)\n",
    "\n",
    "    db = client['employee_reviews'] \n",
    "\n",
    "    collection_name = 'reviews' \n",
    "\n",
    "    db_cm = db[collection_name]\n",
    "    \n",
    "    data = pd.read_csv('reviews.csv')\n",
    "\n",
    "    data_json = json.loads(data.to_json(orient='records'))\n",
    "\n",
    "    db_cm.remove()\n",
    "\n",
    "    db_cm.insert(data_json)\n",
    "    \n",
    "\n",
    "if __name__ == \"__main__\":\n",
    "\n",
    "  filepath = 'reviews.csv'  \n",
    "\n",
    "  import_content(filepath)"
   ]
  },
  {
   "cell_type": "code",
   "execution_count": 7,
   "metadata": {},
   "outputs": [],
   "source": [
    "client = pymongo.MongoClient('localhost', 27017)\n",
    "\n",
    "db = client.employee_reviews"
   ]
  },
  {
   "cell_type": "code",
   "execution_count": 11,
   "metadata": {},
   "outputs": [
    {
     "name": "stderr",
     "output_type": "stream",
     "text": [
      "C:\\Users\\reema\\Anaconda3\\lib\\site-packages\\ipykernel_launcher.py:1: DeprecationWarning: count is deprecated. Use estimated_document_count or count_documents instead. Please note that $where must be replaced by $expr, $near must be replaced by $geoWithin with $center, and $nearSphere must be replaced by $geoWithin with $centerSphere\n",
      "  \"\"\"Entry point for launching an IPython kernel.\n"
     ]
    },
    {
     "data": {
      "text/plain": [
       "67529"
      ]
     },
     "execution_count": 11,
     "metadata": {},
     "output_type": "execute_result"
    }
   ],
   "source": [
    "field_count = db.reviews.count()\n",
    "field_count"
   ]
  },
  {
   "cell_type": "code",
   "execution_count": 13,
   "metadata": {},
   "outputs": [
    {
     "data": {
      "text/plain": [
       "{'_id': ObjectId('5c9875fb8d5fac18505a4cec'),\n",
       " 'company': 'google',\n",
       " 'dates': ' Dec 11, 2018',\n",
       " 'job-title': 'Current Employee - Anonymous Employee',\n",
       " 'overall-ratings': 5.0,\n",
       " 'work-balance': 4.0,\n",
       " 'culture-value': 5.0,\n",
       " 'opportunities-stars': 5.0,\n",
       " 'benefits-stars': 4.0,\n",
       " 'management-stars': 5.0}"
      ]
     },
     "execution_count": 13,
     "metadata": {},
     "output_type": "execute_result"
    }
   ],
   "source": [
    "db.reviews.find_one()"
   ]
  },
  {
   "cell_type": "code",
   "execution_count": null,
   "metadata": {},
   "outputs": [],
   "source": []
  }
 ],
 "metadata": {
  "kernelspec": {
   "display_name": "Python 3",
   "language": "python",
   "name": "python3"
  },
  "language_info": {
   "codemirror_mode": {
    "name": "ipython",
    "version": 3
   },
   "file_extension": ".py",
   "mimetype": "text/x-python",
   "name": "python",
   "nbconvert_exporter": "python",
   "pygments_lexer": "ipython3",
   "version": "3.7.0"
  }
 },
 "nbformat": 4,
 "nbformat_minor": 2
}
