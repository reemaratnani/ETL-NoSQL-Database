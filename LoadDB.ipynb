{
 "cells": [
  {
   "cell_type": "markdown",
   "metadata": {},
   "source": [
    "# Loading Data to DataBase"
   ]
  },
  {
   "cell_type": "code",
   "execution_count": 1,
   "metadata": {},
   "outputs": [],
   "source": [
    "# Setting up dependency\n",
    "import pandas as pd\n",
    "import pymongo\n",
    "import json\n",
    "import warnings\n",
    "warnings.filterwarnings('ignore')"
   ]
  },
  {
   "cell_type": "code",
   "execution_count": 2,
   "metadata": {},
   "outputs": [],
   "source": [
    "# Function was developed to load two csvfiles into MongoDB\n",
    "def import_content(filepath, collection_name):\n",
    "\n",
    "    client = pymongo.MongoClient('localhost', 27017)\n",
    "\n",
    "    db = client['employee_reviews'] # Database name was given here\n",
    "\n",
    "    collection_name =  collection_name\n",
    "\n",
    "    db_cm = db[collection_name]\n",
    "    \n",
    "    data = pd.read_csv(filepath)\n",
    "\n",
    "    data_json = json.loads(data.to_json(orient='records'))\n",
    "\n",
    "    db_cm.remove()\n",
    "\n",
    "    db_cm.insert(data_json)"
   ]
  },
  {
   "cell_type": "code",
   "execution_count": 3,
   "metadata": {},
   "outputs": [],
   "source": [
    "# 1st csvfile including pros and cons of companies was loaded to database in collection \"pros_cons\"\n",
    "filepath = 'pros_cons.csv'\n",
    "collection_name = 'pros_cons' \n",
    "import_content(filepath,collection_name)"
   ]
  },
  {
   "cell_type": "code",
   "execution_count": 4,
   "metadata": {},
   "outputs": [],
   "source": [
    "# 2nd csvfile containing the ratings columns was loaded to database in collection 'reviews'\n",
    "filepath = 'reviews.csv'\n",
    "collection_name = 'reviews'\n",
    "import_content(filepath,collection_name)"
   ]
  },
  {
   "cell_type": "code",
   "execution_count": 5,
   "metadata": {},
   "outputs": [],
   "source": [
    "client = pymongo.MongoClient('localhost', 27017)\n",
    "\n",
    "db = client.employee_reviews"
   ]
  },
  {
   "cell_type": "code",
   "execution_count": 6,
   "metadata": {},
   "outputs": [
    {
     "data": {
      "text/plain": [
       "['pros_cons', 'reviews']"
      ]
     },
     "execution_count": 6,
     "metadata": {},
     "output_type": "execute_result"
    }
   ],
   "source": [
    "db.collection_names()"
   ]
  },
  {
   "cell_type": "code",
   "execution_count": 7,
   "metadata": {},
   "outputs": [
    {
     "data": {
      "text/plain": [
       "{'_id': ObjectId('5ca036948d5fac959ca8068b'),\n",
       " 'company': 'google',\n",
       " 'pros': 'People are smart and friendly',\n",
       " 'cons': 'Bureaucracy is slowing things down'}"
      ]
     },
     "execution_count": 7,
     "metadata": {},
     "output_type": "execute_result"
    }
   ],
   "source": [
    "# To view collection pros_cons\n",
    "db.pros_cons.find_one()"
   ]
  },
  {
   "cell_type": "code",
   "execution_count": 8,
   "metadata": {},
   "outputs": [
    {
     "data": {
      "text/plain": [
       "67529"
      ]
     },
     "execution_count": 8,
     "metadata": {},
     "output_type": "execute_result"
    }
   ],
   "source": [
    "# To count total number of rows in the collection reviews\n",
    "field_count = db.reviews.count()\n",
    "field_count"
   ]
  },
  {
   "cell_type": "code",
   "execution_count": 9,
   "metadata": {},
   "outputs": [
    {
     "data": {
      "text/plain": [
       "{'_id': ObjectId('5ca0369d8d5fac959ca90e55'),\n",
       " 'company': 'google',\n",
       " 'dates': ' Dec 11, 2018',\n",
       " 'job-title': 'Current Employee - Anonymous Employee',\n",
       " 'overall-ratings': 5.0,\n",
       " 'work-balance': 4.0,\n",
       " 'culture-value': 5.0,\n",
       " 'opportunities-stars': 5.0,\n",
       " 'benefits-stars': 4.0,\n",
       " 'management-stars': 5.0}"
      ]
     },
     "execution_count": 9,
     "metadata": {},
     "output_type": "execute_result"
    }
   ],
   "source": [
    "# To view collection reviews\n",
    "db.reviews.find_one()"
   ]
  },
  {
   "cell_type": "code",
   "execution_count": null,
   "metadata": {},
   "outputs": [],
   "source": []
  }
 ],
 "metadata": {
  "kernelspec": {
   "display_name": "Python 3",
   "language": "python",
   "name": "python3"
  },
  "language_info": {
   "codemirror_mode": {
    "name": "ipython",
    "version": 3
   },
   "file_extension": ".py",
   "mimetype": "text/x-python",
   "name": "python",
   "nbconvert_exporter": "python",
   "pygments_lexer": "ipython3",
   "version": "3.7.0"
  }
 },
 "nbformat": 4,
 "nbformat_minor": 2
}
