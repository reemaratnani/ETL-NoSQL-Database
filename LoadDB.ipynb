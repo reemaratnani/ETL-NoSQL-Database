{
 "cells": [
  {
   "cell_type": "markdown",
   "metadata": {},
   "source": [
    "# Loading Data to DataBase"
   ]
  },
  {
   "cell_type": "code",
   "execution_count": 1,
   "metadata": {},
   "outputs": [],
   "source": [
    "# Setting up dependency\n",
    "import pandas as pd\n",
    "import pymongo\n",
    "import json\n",
    "import warnings\n",
    "warnings.filterwarnings('ignore')"
   ]
  },
  {
   "cell_type": "code",
   "execution_count": 2,
   "metadata": {},
   "outputs": [],
   "source": [
    "def import_content(filepath):\n",
    "\n",
    "    client = pymongo.MongoClient('localhost', 27017)\n",
    "\n",
    "    db = client['employee_reviews'] \n",
    "\n",
    "    collection_name = 'reviews' \n",
    "\n",
    "    db_cm = db[collection_name]\n",
    "    \n",
    "    data = pd.read_csv('reviews.csv')\n",
    "\n",
    "    data_json = json.loads(data.to_json(orient='records'))\n",
    "\n",
    "    db_cm.remove()\n",
    "\n",
    "    db_cm.insert(data_json)\n",
    "    \n",
    "\n",
    "if __name__ == \"__main__\":\n",
    "\n",
    "  filepath = 'reviews.csv'  \n",
    "\n",
    "  import_content(filepath)"
   ]
  },
  {
   "cell_type": "code",
   "execution_count": 3,
   "metadata": {},
   "outputs": [],
   "source": [
    "client = pymongo.MongoClient('localhost', 27017)\n",
    "\n",
    "db = client.employee_reviews"
   ]
  },
  {
   "cell_type": "code",
   "execution_count": 4,
   "metadata": {},
   "outputs": [
    {
     "data": {
      "text/plain": [
       "67529"
      ]
     },
     "execution_count": 4,
     "metadata": {},
     "output_type": "execute_result"
    }
   ],
   "source": [
    "field_count = db.reviews.count()\n",
    "field_count"
   ]
  },
  {
   "cell_type": "code",
   "execution_count": 5,
   "metadata": {},
   "outputs": [
    {
     "data": {
      "text/plain": [
       "{'_id': ObjectId('5c987f288d5fac577cd9f320'),\n",
       " 'company': 'google',\n",
       " 'dates': ' Dec 11, 2018',\n",
       " 'job-title': 'Current Employee - Anonymous Employee',\n",
       " 'overall-ratings': 5.0,\n",
       " 'work-balance': 4.0,\n",
       " 'culture-value': 5.0,\n",
       " 'opportunities-stars': 5.0,\n",
       " 'benefits-stars': 4.0,\n",
       " 'management-stars': 5.0}"
      ]
     },
     "execution_count": 5,
     "metadata": {},
     "output_type": "execute_result"
    }
   ],
   "source": [
    "db.reviews.find_one()"
   ]
  },
  {
   "cell_type": "code",
   "execution_count": null,
   "metadata": {},
   "outputs": [],
   "source": []
  }
 ],
 "metadata": {
  "kernelspec": {
   "display_name": "Python 3",
   "language": "python",
   "name": "python3"
  },
  "language_info": {
   "codemirror_mode": {
    "name": "ipython",
    "version": 3
   },
   "file_extension": ".py",
   "mimetype": "text/x-python",
   "name": "python",
   "nbconvert_exporter": "python",
   "pygments_lexer": "ipython3",
   "version": "3.7.0"
  }
 },
 "nbformat": 4,
 "nbformat_minor": 2
}
